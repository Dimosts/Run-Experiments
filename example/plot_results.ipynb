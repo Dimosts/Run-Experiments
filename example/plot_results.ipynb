{
 "cells": [
  {
   "cell_type": "code",
   "execution_count": 1,
   "metadata": {
    "collapsed": true,
    "pycharm": {
     "name": "#%%\n"
    }
   },
   "outputs": [],
   "source": [
    "import pandas as pd\n",
    "from runexp.utils import results_to_df"
   ]
  },
  {
   "cell_type": "code",
   "execution_count": 2,
   "outputs": [
    {
     "data": {
      "text/plain": "Reading results from disk:   0%|          | 0/100 [00:00<?, ?it/s]",
      "application/vnd.jupyter.widget-view+json": {
       "version_major": 2,
       "version_minor": 0,
       "model_id": "c5033adea9344dc58b4ea8d1ebb98c2e"
      }
     },
     "metadata": {},
     "output_type": "display_data"
    },
    {
     "data": {
      "text/plain": "        config/seed  config/arg1/name             config/arg1/v1  \\\n000001            0  HandyDataWrapper  some very important value   \n000002            1  HandyDataWrapper  some very important value   \n000003            2  HandyDataWrapper  some very important value   \n000004            3  HandyDataWrapper  some very important value   \n000005            4  HandyDataWrapper  some very important value   \n...             ...               ...                        ...   \n000096           45  HandyDataWrapper  some very important value   \n000097           46  HandyDataWrapper  some very important value   \n000098           47  HandyDataWrapper  some very important value   \n000099           48  HandyDataWrapper  some very important value   \n000100           49  HandyDataWrapper  some very important value   \n\n        config/arg1/v2  config/arg2 scrambled_text/scrambled_text first_letter  \n000001              42  hello world                   rlel loohdw            r  \n000002              42  hello world                   wrdo lhoell            w  \n000003              42  hello world                   odlolrw leh            o  \n000004              42  hello world                   e whdoolrll            e  \n000005              42  hello world                   l olhrdweol            l  \n...                ...          ...                           ...          ...  \n000096            1337  hello world                   rell lhdowo            r  \n000097            1337  hello world                   llordo lhwe            l  \n000098            1337  hello world                   rhlldloowe             r  \n000099            1337  hello world                   ldhleowol r            l  \n000100            1337  hello world                   olrhloldw e            o  \n\n[100 rows x 7 columns]",
      "text/html": "<div>\n<style scoped>\n    .dataframe tbody tr th:only-of-type {\n        vertical-align: middle;\n    }\n\n    .dataframe tbody tr th {\n        vertical-align: top;\n    }\n\n    .dataframe thead th {\n        text-align: right;\n    }\n</style>\n<table border=\"1\" class=\"dataframe\">\n  <thead>\n    <tr style=\"text-align: right;\">\n      <th></th>\n      <th>config/seed</th>\n      <th>config/arg1/name</th>\n      <th>config/arg1/v1</th>\n      <th>config/arg1/v2</th>\n      <th>config/arg2</th>\n      <th>scrambled_text/scrambled_text</th>\n      <th>first_letter</th>\n    </tr>\n  </thead>\n  <tbody>\n    <tr>\n      <th>000001</th>\n      <td>0</td>\n      <td>HandyDataWrapper</td>\n      <td>some very important value</td>\n      <td>42</td>\n      <td>hello world</td>\n      <td>rlel loohdw</td>\n      <td>r</td>\n    </tr>\n    <tr>\n      <th>000002</th>\n      <td>1</td>\n      <td>HandyDataWrapper</td>\n      <td>some very important value</td>\n      <td>42</td>\n      <td>hello world</td>\n      <td>wrdo lhoell</td>\n      <td>w</td>\n    </tr>\n    <tr>\n      <th>000003</th>\n      <td>2</td>\n      <td>HandyDataWrapper</td>\n      <td>some very important value</td>\n      <td>42</td>\n      <td>hello world</td>\n      <td>odlolrw leh</td>\n      <td>o</td>\n    </tr>\n    <tr>\n      <th>000004</th>\n      <td>3</td>\n      <td>HandyDataWrapper</td>\n      <td>some very important value</td>\n      <td>42</td>\n      <td>hello world</td>\n      <td>e whdoolrll</td>\n      <td>e</td>\n    </tr>\n    <tr>\n      <th>000005</th>\n      <td>4</td>\n      <td>HandyDataWrapper</td>\n      <td>some very important value</td>\n      <td>42</td>\n      <td>hello world</td>\n      <td>l olhrdweol</td>\n      <td>l</td>\n    </tr>\n    <tr>\n      <th>...</th>\n      <td>...</td>\n      <td>...</td>\n      <td>...</td>\n      <td>...</td>\n      <td>...</td>\n      <td>...</td>\n      <td>...</td>\n    </tr>\n    <tr>\n      <th>000096</th>\n      <td>45</td>\n      <td>HandyDataWrapper</td>\n      <td>some very important value</td>\n      <td>1337</td>\n      <td>hello world</td>\n      <td>rell lhdowo</td>\n      <td>r</td>\n    </tr>\n    <tr>\n      <th>000097</th>\n      <td>46</td>\n      <td>HandyDataWrapper</td>\n      <td>some very important value</td>\n      <td>1337</td>\n      <td>hello world</td>\n      <td>llordo lhwe</td>\n      <td>l</td>\n    </tr>\n    <tr>\n      <th>000098</th>\n      <td>47</td>\n      <td>HandyDataWrapper</td>\n      <td>some very important value</td>\n      <td>1337</td>\n      <td>hello world</td>\n      <td>rhlldloowe</td>\n      <td>r</td>\n    </tr>\n    <tr>\n      <th>000099</th>\n      <td>48</td>\n      <td>HandyDataWrapper</td>\n      <td>some very important value</td>\n      <td>1337</td>\n      <td>hello world</td>\n      <td>ldhleowol r</td>\n      <td>l</td>\n    </tr>\n    <tr>\n      <th>000100</th>\n      <td>49</td>\n      <td>HandyDataWrapper</td>\n      <td>some very important value</td>\n      <td>1337</td>\n      <td>hello world</td>\n      <td>olrhloldw e</td>\n      <td>o</td>\n    </tr>\n  </tbody>\n</table>\n<p>100 rows × 7 columns</p>\n</div>"
     },
     "execution_count": 2,
     "metadata": {},
     "output_type": "execute_result"
    }
   ],
   "source": [
    "# read result files\n",
    "df = results_to_df(\"results\",\n",
    "                   fnames=['scrambled_text.txt'])\n",
    "df['first_letter'] = df['scrambled_text/scrambled_text'].apply(lambda s : s[0])\n",
    "df"
   ],
   "metadata": {
    "collapsed": false,
    "pycharm": {
     "name": "#%%\n"
    }
   }
  },
  {
   "cell_type": "code",
   "execution_count": 3,
   "outputs": [
    {
     "data": {
      "text/plain": "<Axes: xlabel='first_letter', ylabel='Count'>"
     },
     "execution_count": 3,
     "metadata": {},
     "output_type": "execute_result"
    },
    {
     "data": {
      "text/plain": "<Figure size 640x480 with 1 Axes>",
      "image/png": "[encoded data removed]"
     },
     "metadata": {},
     "output_type": "display_data"
    }
   ],
   "source": [
    "import seaborn as sns\n",
    "sns.histplot(df, x='first_letter')"
   ],
   "metadata": {
    "collapsed": false,
    "pycharm": {
     "name": "#%%\n"
    }
   }
  }
 ],
 "metadata": {
  "kernelspec": {
   "display_name": "Python 3",
   "language": "python",
   "name": "python3"
  },
  "language_info": {
   "codemirror_mode": {
    "name": "ipython",
    "version": 2
   },
   "file_extension": ".py",
   "mimetype": "text/x-python",
   "name": "python",
   "nbconvert_exporter": "python",
   "pygments_lexer": "ipython2",
   "version": "2.7.6"
  }
 },
 "nbformat": 4,
 "nbformat_minor": 0
}
